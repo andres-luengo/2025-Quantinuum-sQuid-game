{
 "cells": [
  {
   "cell_type": "markdown",
   "metadata": {},
   "source": [
    "### Task 2: Trotter error scaling and higher order Trotterization formulas\n",
    "\n",
    "- Implement first and second order Trotterizations\n",
    "- You can also implement even higher order Trotterizations. Higher-order Trotterization formulas are given e.g. in Eq. (13) and (14) in [3].\n",
    "- Implement the classical simulation of the quantum evolution using e.g. `numpy`. This you will need to quantify the Trotter error. You get the Trotter error by taking the distance between the state vector prepared with the Trotterized circuit, and the state vector prepared with the numerically exact classical numpy method.\n",
    "- Plot the Trotter errors vs number of Trotter steps in a double-log plot\n",
    "\n",
    "\n",
    "Hint:\n",
    "- For example, for two non-commuting operators $A,B$, the second order Trotterization reads [4]\n",
    "$$\n",
    "e^{-i t (A + B)} = e^{-i t A / 2} e^{-i t B} e^{-it A / 2}\n",
    "$$\n",
    "- Use an empty circuit to initialize the time evolution circuit. This means we are starting with the state $\\ket{\\psi} = \\ket{0}^{\\otimes N}$, where all the qubits are in the zero state.\n",
    "- You can also explore other initial states.\n",
    "- To get the state vector of the quantum circuit, you may want to use the backend `AerStateBackend()` (`from pytket.extensions.qiskit import AerStateBackend`).\n",
    "- You can get the matrix representation of a `QubitPauliOperator` with `to_sparse_matrix()` as described above.\n",
    "- The quantum circuit is initialized with the all zero state $\\ket{\\psi} = \\ket{0}^{\\otimes N}$. The corresponding initial vector for the classical numpy simulation is $v = (1, 0, \\dots , 0)\\in \\mathbb{R}^{2^n}$."
   ]
  },
  {
   "cell_type": "code",
   "execution_count": 67,
   "metadata": {},
   "outputs": [],
   "source": [
    "import pytket\n",
    "import numpy as np"
   ]
  },
  {
   "cell_type": "code",
   "execution_count": 68,
   "metadata": {},
   "outputs": [],
   "source": [
    "from pytket.pauli import QubitPauliString, Pauli\n",
    "from pytket.utils import QubitPauliOperator\n",
    "from pytket import Qubit\n",
    "\n",
    "from pytket.circuit.display import render_circuit_jupyter as draw\n",
    "from pytket.circuit import Circuit, CircBox\n",
    "\n",
    "import networkx as nx\n",
    "\n",
    "def get_xxz_hamiltonian(n_qubits: int, Delta_ZZ: float) -> QubitPauliOperator:\n",
    "    sites = nx.path_graph(n_qubits)\n",
    "    qpo_dict = {}\n",
    "    for e in sites.edges:\n",
    "        zz_term = QubitPauliString([Qubit(e[0]), Qubit(e[1])], [Pauli.Z, Pauli.Z])\n",
    "        xx_term = QubitPauliString([Qubit(e[0]), Qubit(e[1])], [Pauli.X, Pauli.X])\n",
    "        yy_term = QubitPauliString([Qubit(e[0]), Qubit(e[1])], [Pauli.Y, Pauli.Y])\n",
    "        qpo_dict[zz_term] = Delta_ZZ\n",
    "        qpo_dict[xx_term] = 1.0\n",
    "        qpo_dict[yy_term] = 1.0\n",
    "\n",
    "    return QubitPauliOperator(qpo_dict).to_sparse_matrix().todense()\n",
    "\n",
    "xxz_ham = get_xxz_hamiltonian(4, 0.7)"
   ]
  },
  {
   "cell_type": "markdown",
   "metadata": {},
   "source": [
    "The following makes the following approximation:\n",
    "$$e^{-it(\\sum_k H_k)} \\approx \\prod_{k=0}^{N-2} e^{-itH_k/2}\\ e^{H_{N-1}}\\ \\prod_{k=0}^{N-2}e^{-itH_{N-2-k}}$$\n",
    "with $t$ small"
   ]
  },
  {
   "cell_type": "code",
   "execution_count": 69,
   "metadata": {},
   "outputs": [],
   "source": [
    "def second_order_xxz_ham_trotterization_step(n_qubits, t: float, delta: float):\n",
    "    circuit = Circuit(n_qubits, name = \"Step\")\n",
    "\n",
    "    # increasing index\n",
    "    for ii in range(n_qubits - 2):\n",
    "        circuit.XXPhase(t / np.pi / 2, ii, ii + 1)\n",
    "        circuit.YYPhase(t / np.pi / 2, ii, ii + 1)\n",
    "        circuit.ZZPhase(delta * t / np.pi, ii, ii + 1)\n",
    "        circuit.YYPhase(t / np.pi / 2, ii, ii + 1)\n",
    "        circuit.XXPhase(t / np.pi / 2, ii, ii + 1)\n",
    "    \n",
    "    # middle term\n",
    "    circuit.XXPhase(t / np.pi, n_qubits - 2, n_qubits - 1)\n",
    "    circuit.YYPhase(t / np.pi, n_qubits - 2, n_qubits - 1)\n",
    "\n",
    "    circuit.ZZPhase(2 * delta * t / np.pi, n_qubits - 2, n_qubits - 1)    # middle middle term\n",
    "\n",
    "    circuit.YYPhase(t / np.pi, n_qubits - 2, n_qubits - 1)\n",
    "    circuit.XXPhase(t / np.pi, n_qubits - 2, n_qubits - 1)\n",
    "\n",
    "    # decreasing index\n",
    "    for ii in range(n_qubits - 3, -1, -1):\n",
    "        circuit.XXPhase(t / np.pi / 2, ii, ii + 1)\n",
    "        circuit.YYPhase(t / np.pi / 2, ii, ii + 1)\n",
    "        circuit.ZZPhase(delta * t / np.pi, ii, ii + 1)\n",
    "        circuit.YYPhase(t / np.pi / 2, ii, ii + 1)\n",
    "        circuit.XXPhase(t / np.pi / 2, ii, ii + 1)\n",
    "\n",
    "    return circuit\n",
    "\n",
    "def second_order_xxz_ham_trotterization(n_qubits, t: float, delta: float, n_steps: int, hadamard_qubits: list[int] = []):\n",
    "    circuit = Circuit(n_qubits)\n",
    "\n",
    "    for qubit in hadamard_qubits:\n",
    "        circuit.H(qubit)\n",
    "\n",
    "    one_step = CircBox(second_order_xxz_ham_trotterization_step(n_qubits, t/n_steps, delta))\n",
    "\n",
    "    for _ in range(n_steps):\n",
    "        circuit.add_circbox(one_step, range(n_qubits))\n",
    "    \n",
    "    return circuit\n",
    "\n",
    "sample_trotterization_circ = second_order_xxz_ham_trotterization(4, 1, 0.7, 10, [3])"
   ]
  },
  {
   "cell_type": "code",
   "execution_count": 70,
   "metadata": {},
   "outputs": [],
   "source": [
    "from pytket.extensions.qiskit import AerStateBackend"
   ]
  },
  {
   "cell_type": "code",
   "execution_count": 71,
   "metadata": {},
   "outputs": [],
   "source": [
    "backend = AerStateBackend()"
   ]
  },
  {
   "cell_type": "code",
   "execution_count": 72,
   "metadata": {},
   "outputs": [],
   "source": [
    "circ = backend.get_compiled_circuit(sample_trotterization_circ)\n",
    "\n",
    "result = backend.run_circuit(circ)"
   ]
  },
  {
   "cell_type": "code",
   "execution_count": 73,
   "metadata": {},
   "outputs": [
    {
     "data": {
      "text/plain": [
       "array([-3.56980104e-01-6.10381197e-01j, -1.17590531e-01-1.61775646e-01j,\n",
       "       -1.46942543e-01-2.43218203e-01j, -1.08144280e-15+1.08645415e-15j,\n",
       "       -3.77428309e-01-9.93532034e-02j, -7.06214293e-16+8.36121751e-16j,\n",
       "       -1.12533421e-16-3.52438086e-16j,  3.43553209e-18+5.63247467e-17j,\n",
       "        2.40595879e-02+4.75764491e-01j,  2.90483944e-16-9.79713119e-17j,\n",
       "        5.58283291e-16-9.54163355e-16j,  4.75071152e-16+8.37441508e-18j,\n",
       "       -1.38777878e-16-5.55111512e-17j, -4.16333634e-17-7.91033905e-16j,\n",
       "        4.02455846e-16-6.10622664e-16j, -3.92523115e-17+2.45326947e-17j])"
      ]
     },
     "execution_count": 73,
     "metadata": {},
     "output_type": "execute_result"
    }
   ],
   "source": [
    "state_vector = result.get_state()\n",
    "state_vector"
   ]
  },
  {
   "cell_type": "code",
   "execution_count": 74,
   "metadata": {},
   "outputs": [
    {
     "name": "stderr",
     "output_type": "stream",
     "text": [
      "100%|██████████| 40/40 [00:00<00:00, 1540.08it/s]\n"
     ]
    },
    {
     "name": "stdout",
     "output_type": "stream",
     "text": [
      "compiling circuits...\n",
      "running circuits...\n"
     ]
    },
    {
     "name": "stderr",
     "output_type": "stream",
     "text": [
      "100%|██████████| 40/40 [00:28<00:00,  1.40it/s]\n"
     ]
    }
   ],
   "source": [
    "from tqdm import tqdm\n",
    "\n",
    "step_counts = np.arange(1, 201, 5)\n",
    "circs = []\n",
    "\n",
    "for step_count in tqdm(step_counts):\n",
    "    circs += [second_order_xxz_ham_trotterization(4, 3, 0.7, step_count, [3])]\n",
    "\n",
    "print(\"compiling circuits...\")\n",
    "circs = backend.get_compiled_circuits(circs)\n",
    "\n",
    "print(\"running circuits...\")\n",
    "results = []\n",
    "for circ in tqdm(circs):\n",
    "    results += [backend.run_circuit(circ)]"
   ]
  },
  {
   "cell_type": "code",
   "execution_count": 75,
   "metadata": {},
   "outputs": [],
   "source": [
    "state_vectors = [result.get_state() for result in results]"
   ]
  },
  {
   "cell_type": "code",
   "execution_count": 76,
   "metadata": {},
   "outputs": [],
   "source": [
    "def max_dist(vec1, vec2):\n",
    "    return np.max(np.abs(vec1 - vec2))"
   ]
  },
  {
   "cell_type": "code",
   "execution_count": 77,
   "metadata": {},
   "outputs": [],
   "source": [
    "from scipy.linalg import expm\n",
    "\n",
    "def num_state_vector(n_qubits, delta, t):\n",
    "    H = get_xxz_hamiltonian(n_qubits, delta)\n",
    "\n",
    "    u_t = lambda t: expm(-1j * t * H)\n",
    "\n",
    "    psi_0 = np.zeros(4**2)\n",
    "    psi_0[0] = 1 / np.sqrt(2)\n",
    "    psi_0[1] = 1 / np.sqrt(2)\n",
    "\n",
    "    exact_state_vector = np.dot(u_t(t), psi_0)\n",
    "    return exact_state_vector\n",
    "\n",
    "exact_state_vector = num_state_vector(4, 0.7, 3)"
   ]
  },
  {
   "cell_type": "code",
   "execution_count": 78,
   "metadata": {},
   "outputs": [],
   "source": [
    "errors = [max_dist(exact_state_vector, state_vec) for state_vec in state_vectors]"
   ]
  },
  {
   "cell_type": "code",
   "execution_count": 79,
   "metadata": {},
   "outputs": [
    {
     "data": {
      "text/plain": [
       "[np.float64(0.7750487879368673),\n",
       " np.float64(0.3310597163341504),\n",
       " np.float64(0.09518753162628169),\n",
       " np.float64(0.043630698965528784),\n",
       " np.float64(0.024949258667839647),\n",
       " np.float64(0.016147100499825078),\n",
       " np.float64(0.011355839126776106),\n",
       " np.float64(0.008450383082512662),\n",
       " np.float64(0.006530021839940244),\n",
       " np.float64(0.005195827113468878),\n",
       " np.float64(0.004231783076323707),\n",
       " np.float64(0.0035128017803270936),\n",
       " np.float64(0.0029624361154366656),\n",
       " np.float64(0.0025318521751890428),\n",
       " np.float64(0.0021886810058089224),\n",
       " np.float64(0.001910784683201399),\n",
       " np.float64(0.0016826100190787305),\n",
       " np.float64(0.001492972122398475),\n",
       " np.float64(0.0013336614890725284),\n",
       " np.float64(0.0011985427842686625),\n",
       " np.float64(0.0010829565974286009),\n",
       " np.float64(0.0009833131649422515),\n",
       " np.float64(0.0008968107800414844),\n",
       " np.float64(0.0008212370146122882),\n",
       " np.float64(0.0007548260531810537),\n",
       " np.float64(0.0006961547448762667),\n",
       " np.float64(0.000644065817526918),\n",
       " np.float64(0.0005976104368632439),\n",
       " np.float64(0.0005560047360827761),\n",
       " np.float64(0.0005185965638216766),\n",
       " np.float64(0.0004848397958358858),\n",
       " np.float64(0.0004542743055935542),\n",
       " np.float64(0.0004265102142292478),\n",
       " np.float64(0.00040121540489004484),\n",
       " np.float64(0.00037810555075561055),\n",
       " np.float64(0.0003569360962669652),\n",
       " np.float64(0.00033749576318442814),\n",
       " np.float64(0.0003196012625916077),\n",
       " np.float64(0.00030309296046306117),\n",
       " np.float64(0.0002878313072973455)]"
      ]
     },
     "execution_count": 79,
     "metadata": {},
     "output_type": "execute_result"
    }
   ],
   "source": [
    "errors"
   ]
  },
  {
   "cell_type": "code",
   "execution_count": 128,
   "metadata": {},
   "outputs": [
    {
     "data": {
      "text/plain": [
       "(np.float64(-2.0088516899645366), np.float64(1.0609032335794495))"
      ]
     },
     "execution_count": 128,
     "metadata": {},
     "output_type": "execute_result"
    }
   ],
   "source": [
    "log_n_steps = [np.log10(step_count) for step_count in step_counts]\n",
    "log_errors = [np.log10(error) for error in errors]\n",
    "\n",
    "cutoff = 1\n",
    "\n",
    "m, b = np.polyfit(log_n_steps[cutoff:], log_errors[cutoff:], 1)\n",
    "m, b"
   ]
  },
  {
   "cell_type": "code",
   "execution_count": 129,
   "metadata": {},
   "outputs": [
    {
     "data": {
      "text/plain": [
       "Text(0.5, 1.0, 'Error with Number of Trotterization Steps')"
      ]
     },
     "execution_count": 129,
     "metadata": {},
     "output_type": "execute_result"
    },
    {
     "data": {
      "image/png": "[encoded data removed]",
      "text/plain": [
       "<Figure size 700x700 with 1 Axes>"
      ]
     },
     "metadata": {},
     "output_type": "display_data"
    }
   ],
   "source": [
    "import matplotlib.pyplot as plt\n",
    "\n",
    "fig, ax = plt.subplots(figsize = (7, 7))\n",
    "\n",
    "ax.plot(10**np.array(log_n_steps), 10**(np.array(log_n_steps) * m + b))\n",
    "ax.scatter(step_counts[cutoff:], errors[cutoff:], c = \"red\")\n",
    "ax.scatter(step_counts[:cutoff], errors[:cutoff], edgecolor = \"red\", facecolor = \"None\")\n",
    "\n",
    "ax.set_xscale('log')\n",
    "ax.set_yscale('log')\n",
    "# ax.set_xlim(left = 20)\n",
    "# ax.set_ylim(0, 0.03)\n",
    "ax.set_xlabel(\"Number of Steps\")\n",
    "ax.set_ylabel(\"Max Dist\")\n",
    "ax.set_title(\"Error with Number of Trotterization Steps\")"
   ]
  },
  {
   "cell_type": "code",
   "execution_count": 98,
   "metadata": {},
   "outputs": [],
   "source": [
    "data = np.array([step_counts, errors], [('step_count', int), ('error', float)])\n",
    "np.save(\"second_order_H_XXZ_data\", data)"
   ]
  }
 ],
 "metadata": {
  "kernelspec": {
   "display_name": "iQuHack",
   "language": "python",
   "name": "python3"
  },
  "language_info": {
   "codemirror_mode": {
    "name": "ipython",
    "version": 3
   },
   "file_extension": ".py",
   "mimetype": "text/x-python",
   "name": "python",
   "nbconvert_exporter": "python",
   "pygments_lexer": "ipython3",
   "version": "3.11.11"
  }
 },
 "nbformat": 4,
 "nbformat_minor": 2
}
